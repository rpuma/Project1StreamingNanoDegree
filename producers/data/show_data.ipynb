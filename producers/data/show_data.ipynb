{
 "cells": [
  {
   "cell_type": "code",
   "execution_count": 1,
   "metadata": {},
   "outputs": [],
   "source": [
    "import pandas as pd"
   ]
  },
  {
   "cell_type": "code",
   "execution_count": 3,
   "metadata": {},
   "outputs": [
    {
     "data": {
      "text/html": [
       "<div>\n",
       "<style scoped>\n",
       "    .dataframe tbody tr th:only-of-type {\n",
       "        vertical-align: middle;\n",
       "    }\n",
       "\n",
       "    .dataframe tbody tr th {\n",
       "        vertical-align: top;\n",
       "    }\n",
       "\n",
       "    .dataframe thead th {\n",
       "        text-align: right;\n",
       "    }\n",
       "</style>\n",
       "<table border=\"1\" class=\"dataframe\">\n",
       "  <thead>\n",
       "    <tr style=\"text-align: right;\">\n",
       "      <th></th>\n",
       "      <th>stop_id</th>\n",
       "      <th>direction_id</th>\n",
       "      <th>stop_name</th>\n",
       "      <th>station_name</th>\n",
       "      <th>station_descriptive_name</th>\n",
       "      <th>station_id</th>\n",
       "      <th>order</th>\n",
       "      <th>red</th>\n",
       "      <th>blue</th>\n",
       "      <th>green</th>\n",
       "    </tr>\n",
       "  </thead>\n",
       "  <tbody>\n",
       "    <tr>\n",
       "      <th>0</th>\n",
       "      <td>30004</td>\n",
       "      <td>W</td>\n",
       "      <td>Harlem (Terminal arrival)</td>\n",
       "      <td>Harlem/Lake</td>\n",
       "      <td>Harlem/Lake (Green Line)</td>\n",
       "      <td>40020</td>\n",
       "      <td>0</td>\n",
       "      <td>False</td>\n",
       "      <td>False</td>\n",
       "      <td>True</td>\n",
       "    </tr>\n",
       "    <tr>\n",
       "      <th>1</th>\n",
       "      <td>30003</td>\n",
       "      <td>E</td>\n",
       "      <td>Harlem (63rd-bound)</td>\n",
       "      <td>Harlem/Lake</td>\n",
       "      <td>Harlem/Lake (Green Line)</td>\n",
       "      <td>40020</td>\n",
       "      <td>0</td>\n",
       "      <td>False</td>\n",
       "      <td>False</td>\n",
       "      <td>True</td>\n",
       "    </tr>\n",
       "    <tr>\n",
       "      <th>2</th>\n",
       "      <td>30263</td>\n",
       "      <td>E</td>\n",
       "      <td>Oak Park (63rd-bound)</td>\n",
       "      <td>Oak Park</td>\n",
       "      <td>Oak Park (Green Line)</td>\n",
       "      <td>41350</td>\n",
       "      <td>1</td>\n",
       "      <td>False</td>\n",
       "      <td>False</td>\n",
       "      <td>True</td>\n",
       "    </tr>\n",
       "    <tr>\n",
       "      <th>3</th>\n",
       "      <td>30264</td>\n",
       "      <td>W</td>\n",
       "      <td>Oak Park (Harlem-bound)</td>\n",
       "      <td>Oak Park</td>\n",
       "      <td>Oak Park (Green Line)</td>\n",
       "      <td>41350</td>\n",
       "      <td>1</td>\n",
       "      <td>False</td>\n",
       "      <td>False</td>\n",
       "      <td>True</td>\n",
       "    </tr>\n",
       "    <tr>\n",
       "      <th>4</th>\n",
       "      <td>30119</td>\n",
       "      <td>E</td>\n",
       "      <td>Ridgeland (63rd-bound)</td>\n",
       "      <td>Ridgeland</td>\n",
       "      <td>Ridgeland (Green Line)</td>\n",
       "      <td>40610</td>\n",
       "      <td>2</td>\n",
       "      <td>False</td>\n",
       "      <td>False</td>\n",
       "      <td>True</td>\n",
       "    </tr>\n",
       "  </tbody>\n",
       "</table>\n",
       "</div>"
      ],
      "text/plain": [
       "   stop_id direction_id                  stop_name station_name  \\\n",
       "0    30004            W  Harlem (Terminal arrival)  Harlem/Lake   \n",
       "1    30003            E        Harlem (63rd-bound)  Harlem/Lake   \n",
       "2    30263            E      Oak Park (63rd-bound)     Oak Park   \n",
       "3    30264            W    Oak Park (Harlem-bound)     Oak Park   \n",
       "4    30119            E     Ridgeland (63rd-bound)    Ridgeland   \n",
       "\n",
       "   station_descriptive_name  station_id  order    red   blue  green  \n",
       "0  Harlem/Lake (Green Line)       40020      0  False  False   True  \n",
       "1  Harlem/Lake (Green Line)       40020      0  False  False   True  \n",
       "2     Oak Park (Green Line)       41350      1  False  False   True  \n",
       "3     Oak Park (Green Line)       41350      1  False  False   True  \n",
       "4    Ridgeland (Green Line)       40610      2  False  False   True  "
      ]
     },
     "execution_count": 3,
     "metadata": {},
     "output_type": "execute_result"
    }
   ],
   "source": [
    "path = \"cta_stations.csv\"\n",
    "df = pd.read_csv(path)\n",
    "df.head()"
   ]
  },
  {
   "cell_type": "code",
   "execution_count": null,
   "metadata": {},
   "outputs": [],
   "source": [
    "if <condition>: <expression1> else: <expression2>\n"
   ]
  },
  {
   "cell_type": "code",
   "execution_count": 7,
   "metadata": {},
   "outputs": [],
   "source": [
    "red = True\n",
    "blue = False\n",
    "green = False"
   ]
  },
  {
   "cell_type": "code",
   "execution_count": 13,
   "metadata": {},
   "outputs": [
    {
     "ename": "SyntaxError",
     "evalue": "invalid syntax (<ipython-input-13-9a2fc32c2e43>, line 1)",
     "output_type": "error",
     "traceback": [
      "\u001b[1;36m  File \u001b[1;32m\"<ipython-input-13-9a2fc32c2e43>\"\u001b[1;36m, line \u001b[1;32m1\u001b[0m\n\u001b[1;33m    if red: a = \"red\"; else: a = \"blue\"\u001b[0m\n\u001b[1;37m                       ^\u001b[0m\n\u001b[1;31mSyntaxError\u001b[0m\u001b[1;31m:\u001b[0m invalid syntax\n"
     ]
    }
   ],
   "source": [
    "if red: a = \"red\"; else: a = \"blue\"\n"
   ]
  }
 ],
 "metadata": {
  "kernelspec": {
   "display_name": "Python 3",
   "language": "python",
   "name": "python3"
  },
  "language_info": {
   "codemirror_mode": {
    "name": "ipython",
    "version": 3
   },
   "file_extension": ".py",
   "mimetype": "text/x-python",
   "name": "python",
   "nbconvert_exporter": "python",
   "pygments_lexer": "ipython3",
   "version": "3.8.3"
  }
 },
 "nbformat": 4,
 "nbformat_minor": 4
}
